{
 "cells": [
  {
   "cell_type": "code",
   "execution_count": 1,
   "id": "d38ed192",
   "metadata": {
    "ExecuteTime": {
     "end_time": "2022-11-21T08:05:40.801356Z",
     "start_time": "2022-11-21T08:05:23.859092Z"
    }
   },
   "outputs": [
    {
     "data": {
      "text/html": [
       "<div>\n",
       "<style scoped>\n",
       "    .dataframe tbody tr th:only-of-type {\n",
       "        vertical-align: middle;\n",
       "    }\n",
       "\n",
       "    .dataframe tbody tr th {\n",
       "        vertical-align: top;\n",
       "    }\n",
       "\n",
       "    .dataframe thead th {\n",
       "        text-align: right;\n",
       "    }\n",
       "</style>\n",
       "<table border=\"1\" class=\"dataframe\">\n",
       "  <thead>\n",
       "    <tr style=\"text-align: right;\">\n",
       "      <th></th>\n",
       "      <th>Unnamed: 0</th>\n",
       "      <th>eid</th>\n",
       "      <th>p41270</th>\n",
       "      <th>ALT</th>\n",
       "      <th>Albumin</th>\n",
       "      <th>Alkaline phosphatase</th>\n",
       "      <th>ApoA</th>\n",
       "      <th>ApoB</th>\n",
       "      <th>AST</th>\n",
       "      <th>C-reactive protein</th>\n",
       "      <th>...</th>\n",
       "      <th>SHBG</th>\n",
       "      <th>Sodium in urine</th>\n",
       "      <th>Testosterone</th>\n",
       "      <th>Total bilirubin</th>\n",
       "      <th>Total protein</th>\n",
       "      <th>Triglycerides</th>\n",
       "      <th>Urate</th>\n",
       "      <th>Urea</th>\n",
       "      <th>VD</th>\n",
       "      <th>flag</th>\n",
       "    </tr>\n",
       "  </thead>\n",
       "  <tbody>\n",
       "    <tr>\n",
       "      <th>0</th>\n",
       "      <td>0</td>\n",
       "      <td>5155904</td>\n",
       "      <td>R87.6 Abnormal cytological findings|eczema/der...</td>\n",
       "      <td>11.61</td>\n",
       "      <td>44.62</td>\n",
       "      <td>58.3</td>\n",
       "      <td>1.612</td>\n",
       "      <td>0.776</td>\n",
       "      <td>18.0</td>\n",
       "      <td>1.81</td>\n",
       "      <td>...</td>\n",
       "      <td>75.27</td>\n",
       "      <td>32.5</td>\n",
       "      <td>0.877</td>\n",
       "      <td>7.18</td>\n",
       "      <td>71.28</td>\n",
       "      <td>1.677</td>\n",
       "      <td>281.6</td>\n",
       "      <td>4.84</td>\n",
       "      <td>109.0</td>\n",
       "      <td>0</td>\n",
       "    </tr>\n",
       "    <tr>\n",
       "      <th>1</th>\n",
       "      <td>1</td>\n",
       "      <td>5551888</td>\n",
       "      <td>E11.9 Without complications|E78.0 Pure hyperch...</td>\n",
       "      <td>23.24</td>\n",
       "      <td>44.45</td>\n",
       "      <td>78.5</td>\n",
       "      <td>1.397</td>\n",
       "      <td>1.022</td>\n",
       "      <td>25.1</td>\n",
       "      <td>0.59</td>\n",
       "      <td>...</td>\n",
       "      <td>23.27</td>\n",
       "      <td>123.9</td>\n",
       "      <td>15.640</td>\n",
       "      <td>9.15</td>\n",
       "      <td>76.82</td>\n",
       "      <td>0.803</td>\n",
       "      <td>334.1</td>\n",
       "      <td>3.05</td>\n",
       "      <td>39.4</td>\n",
       "      <td>0</td>\n",
       "    </tr>\n",
       "    <tr>\n",
       "      <th>2</th>\n",
       "      <td>2</td>\n",
       "      <td>4051692</td>\n",
       "      <td>D50.8 Other iron deficiency anaemias|F05.9 Del...</td>\n",
       "      <td>22.18</td>\n",
       "      <td>45.65</td>\n",
       "      <td>111.4</td>\n",
       "      <td>1.496</td>\n",
       "      <td>1.140</td>\n",
       "      <td>26.7</td>\n",
       "      <td>2.12</td>\n",
       "      <td>...</td>\n",
       "      <td>54.07</td>\n",
       "      <td>31.7</td>\n",
       "      <td>0.687</td>\n",
       "      <td>5.99</td>\n",
       "      <td>72.55</td>\n",
       "      <td>2.006</td>\n",
       "      <td>220.6</td>\n",
       "      <td>4.66</td>\n",
       "      <td>46.8</td>\n",
       "      <td>0</td>\n",
       "    </tr>\n",
       "    <tr>\n",
       "      <th>3</th>\n",
       "      <td>3</td>\n",
       "      <td>2293266</td>\n",
       "      <td>J32.8 Other chronic sinusitis|J33.9 Nasal poly...</td>\n",
       "      <td>24.61</td>\n",
       "      <td>41.70</td>\n",
       "      <td>110.3</td>\n",
       "      <td>1.142</td>\n",
       "      <td>0.799</td>\n",
       "      <td>27.8</td>\n",
       "      <td>5.15</td>\n",
       "      <td>...</td>\n",
       "      <td>26.26</td>\n",
       "      <td>179.3</td>\n",
       "      <td>8.990</td>\n",
       "      <td>8.90</td>\n",
       "      <td>70.65</td>\n",
       "      <td>1.769</td>\n",
       "      <td>376.7</td>\n",
       "      <td>3.89</td>\n",
       "      <td>22.2</td>\n",
       "      <td>0</td>\n",
       "    </tr>\n",
       "    <tr>\n",
       "      <th>4</th>\n",
       "      <td>4</td>\n",
       "      <td>3062055</td>\n",
       "      <td>K80.2 Calculus of gallbladder without cholecys...</td>\n",
       "      <td>28.28</td>\n",
       "      <td>45.62</td>\n",
       "      <td>69.3</td>\n",
       "      <td>1.324</td>\n",
       "      <td>1.231</td>\n",
       "      <td>64.9</td>\n",
       "      <td>2.31</td>\n",
       "      <td>...</td>\n",
       "      <td>32.42</td>\n",
       "      <td>107.4</td>\n",
       "      <td>9.275</td>\n",
       "      <td>33.14</td>\n",
       "      <td>69.07</td>\n",
       "      <td>2.656</td>\n",
       "      <td>331.1</td>\n",
       "      <td>9.26</td>\n",
       "      <td>39.6</td>\n",
       "      <td>0</td>\n",
       "    </tr>\n",
       "  </tbody>\n",
       "</table>\n",
       "<p>5 rows × 36 columns</p>\n",
       "</div>"
      ],
      "text/plain": [
       "   Unnamed: 0      eid                                             p41270  \\\n",
       "0           0  5155904  R87.6 Abnormal cytological findings|eczema/der...   \n",
       "1           1  5551888  E11.9 Without complications|E78.0 Pure hyperch...   \n",
       "2           2  4051692  D50.8 Other iron deficiency anaemias|F05.9 Del...   \n",
       "3           3  2293266  J32.8 Other chronic sinusitis|J33.9 Nasal poly...   \n",
       "4           4  3062055  K80.2 Calculus of gallbladder without cholecys...   \n",
       "\n",
       "     ALT  Albumin  Alkaline phosphatase   ApoA   ApoB   AST  \\\n",
       "0  11.61    44.62                  58.3  1.612  0.776  18.0   \n",
       "1  23.24    44.45                  78.5  1.397  1.022  25.1   \n",
       "2  22.18    45.65                 111.4  1.496  1.140  26.7   \n",
       "3  24.61    41.70                 110.3  1.142  0.799  27.8   \n",
       "4  28.28    45.62                  69.3  1.324  1.231  64.9   \n",
       "\n",
       "   C-reactive protein  ...   SHBG  Sodium in urine  Testosterone  \\\n",
       "0                1.81  ...  75.27             32.5         0.877   \n",
       "1                0.59  ...  23.27            123.9        15.640   \n",
       "2                2.12  ...  54.07             31.7         0.687   \n",
       "3                5.15  ...  26.26            179.3         8.990   \n",
       "4                2.31  ...  32.42            107.4         9.275   \n",
       "\n",
       "   Total bilirubin  Total protein  Triglycerides  Urate  Urea     VD  flag  \n",
       "0             7.18          71.28          1.677  281.6  4.84  109.0     0  \n",
       "1             9.15          76.82          0.803  334.1  3.05   39.4     0  \n",
       "2             5.99          72.55          2.006  220.6  4.66   46.8     0  \n",
       "3             8.90          70.65          1.769  376.7  3.89   22.2     0  \n",
       "4            33.14          69.07          2.656  331.1  9.26   39.6     0  \n",
       "\n",
       "[5 rows x 36 columns]"
      ]
     },
     "execution_count": 1,
     "metadata": {},
     "output_type": "execute_result"
    }
   ],
   "source": [
    "import xgboost as xgb\n",
    "import pandas as pd\n",
    "import operator\n",
    "from matplotlib import pylab as plt\n",
    "from pylab import *\n",
    "from imblearn.over_sampling import RandomOverSampler\n",
    "\n",
    "df=pd.read_csv(\"icd10_Oct_7_flag.csv\",encoding=\"gbk\")\n",
    "df.head()"
   ]
  },
  {
   "cell_type": "code",
   "execution_count": 2,
   "id": "bb38747d",
   "metadata": {
    "ExecuteTime": {
     "end_time": "2022-11-21T08:17:36.159635Z",
     "start_time": "2022-11-21T08:17:35.675543Z"
    }
   },
   "outputs": [
    {
     "data": {
      "text/plain": [
       "Unnamed: 0                    0\n",
       "eid                           0\n",
       "p41270                        0\n",
       "ALT                       31351\n",
       "Albumin                   68624\n",
       "Alkaline phosphatase      31169\n",
       "ApoA                      71052\n",
       "ApoB                      33453\n",
       "AST                       32879\n",
       "C-reactive protein        32161\n",
       "Ca                        68760\n",
       "Cholestero                31182\n",
       "Creatinine                31407\n",
       "Creatinine in urine       17233\n",
       "Cystatin C                31211\n",
       "Direct bilirubin          98798\n",
       "γ-glutamyltransferase     31423\n",
       "Glucose                   69111\n",
       "HbA1c                     33999\n",
       "HDL cholesterol           68809\n",
       "IGF-1                     33605\n",
       "LDL cholesterol          364101\n",
       "Lipoprotein A            120426\n",
       "Microalbumin in urine    329346\n",
       "Phosphate                 69416\n",
       "Potassium in urine        18191\n",
       "SHBG                      72660\n",
       "Sodium in urine           18233\n",
       "Testosterone              74011\n",
       "Total bilirubin           33110\n",
       "Total protein             69067\n",
       "Triglycerides             31550\n",
       "Urate                     31720\n",
       "Urea                      31490\n",
       "VD                        51220\n",
       "flag                          0\n",
       "dtype: int64"
      ]
     },
     "execution_count": 2,
     "metadata": {},
     "output_type": "execute_result"
    }
   ],
   "source": [
    "df.isnull().sum()"
   ]
  },
  {
   "cell_type": "code",
   "execution_count": 3,
   "id": "dce284a6",
   "metadata": {
    "ExecuteTime": {
     "end_time": "2022-11-21T08:17:37.294918Z",
     "start_time": "2022-11-21T08:17:36.620017Z"
    },
    "scrolled": true
   },
   "outputs": [
    {
     "data": {
      "text/html": [
       "<div>\n",
       "<style scoped>\n",
       "    .dataframe tbody tr th:only-of-type {\n",
       "        vertical-align: middle;\n",
       "    }\n",
       "\n",
       "    .dataframe tbody tr th {\n",
       "        vertical-align: top;\n",
       "    }\n",
       "\n",
       "    .dataframe thead th {\n",
       "        text-align: right;\n",
       "    }\n",
       "</style>\n",
       "<table border=\"1\" class=\"dataframe\">\n",
       "  <thead>\n",
       "    <tr style=\"text-align: right;\">\n",
       "      <th></th>\n",
       "      <th>Unnamed: 0</th>\n",
       "      <th>eid</th>\n",
       "      <th>p41270</th>\n",
       "      <th>ALT</th>\n",
       "      <th>Albumin</th>\n",
       "      <th>Alkaline phosphatase</th>\n",
       "      <th>ApoA</th>\n",
       "      <th>ApoB</th>\n",
       "      <th>AST</th>\n",
       "      <th>C-reactive protein</th>\n",
       "      <th>...</th>\n",
       "      <th>SHBG</th>\n",
       "      <th>Sodium in urine</th>\n",
       "      <th>Testosterone</th>\n",
       "      <th>Total bilirubin</th>\n",
       "      <th>Total protein</th>\n",
       "      <th>Triglycerides</th>\n",
       "      <th>Urate</th>\n",
       "      <th>Urea</th>\n",
       "      <th>VD</th>\n",
       "      <th>flag</th>\n",
       "    </tr>\n",
       "  </thead>\n",
       "  <tbody>\n",
       "    <tr>\n",
       "      <th>0</th>\n",
       "      <td>0</td>\n",
       "      <td>5155904</td>\n",
       "      <td>R87.6 Abnormal cytological findings|eczema/der...</td>\n",
       "      <td>11.61</td>\n",
       "      <td>44.62</td>\n",
       "      <td>58.3</td>\n",
       "      <td>1.612</td>\n",
       "      <td>0.776</td>\n",
       "      <td>18.0</td>\n",
       "      <td>1.81</td>\n",
       "      <td>...</td>\n",
       "      <td>75.27</td>\n",
       "      <td>32.5</td>\n",
       "      <td>0.877</td>\n",
       "      <td>7.18</td>\n",
       "      <td>71.28</td>\n",
       "      <td>1.677</td>\n",
       "      <td>281.6</td>\n",
       "      <td>4.84</td>\n",
       "      <td>109.0</td>\n",
       "      <td>0</td>\n",
       "    </tr>\n",
       "    <tr>\n",
       "      <th>1</th>\n",
       "      <td>1</td>\n",
       "      <td>5551888</td>\n",
       "      <td>E11.9 Without complications|E78.0 Pure hyperch...</td>\n",
       "      <td>23.24</td>\n",
       "      <td>44.45</td>\n",
       "      <td>78.5</td>\n",
       "      <td>1.397</td>\n",
       "      <td>1.022</td>\n",
       "      <td>25.1</td>\n",
       "      <td>0.59</td>\n",
       "      <td>...</td>\n",
       "      <td>23.27</td>\n",
       "      <td>123.9</td>\n",
       "      <td>15.640</td>\n",
       "      <td>9.15</td>\n",
       "      <td>76.82</td>\n",
       "      <td>0.803</td>\n",
       "      <td>334.1</td>\n",
       "      <td>3.05</td>\n",
       "      <td>39.4</td>\n",
       "      <td>0</td>\n",
       "    </tr>\n",
       "    <tr>\n",
       "      <th>2</th>\n",
       "      <td>2</td>\n",
       "      <td>4051692</td>\n",
       "      <td>D50.8 Other iron deficiency anaemias|F05.9 Del...</td>\n",
       "      <td>22.18</td>\n",
       "      <td>45.65</td>\n",
       "      <td>111.4</td>\n",
       "      <td>1.496</td>\n",
       "      <td>1.140</td>\n",
       "      <td>26.7</td>\n",
       "      <td>2.12</td>\n",
       "      <td>...</td>\n",
       "      <td>54.07</td>\n",
       "      <td>31.7</td>\n",
       "      <td>0.687</td>\n",
       "      <td>5.99</td>\n",
       "      <td>72.55</td>\n",
       "      <td>2.006</td>\n",
       "      <td>220.6</td>\n",
       "      <td>4.66</td>\n",
       "      <td>46.8</td>\n",
       "      <td>0</td>\n",
       "    </tr>\n",
       "    <tr>\n",
       "      <th>3</th>\n",
       "      <td>3</td>\n",
       "      <td>2293266</td>\n",
       "      <td>J32.8 Other chronic sinusitis|J33.9 Nasal poly...</td>\n",
       "      <td>24.61</td>\n",
       "      <td>41.70</td>\n",
       "      <td>110.3</td>\n",
       "      <td>1.142</td>\n",
       "      <td>0.799</td>\n",
       "      <td>27.8</td>\n",
       "      <td>5.15</td>\n",
       "      <td>...</td>\n",
       "      <td>26.26</td>\n",
       "      <td>179.3</td>\n",
       "      <td>8.990</td>\n",
       "      <td>8.90</td>\n",
       "      <td>70.65</td>\n",
       "      <td>1.769</td>\n",
       "      <td>376.7</td>\n",
       "      <td>3.89</td>\n",
       "      <td>22.2</td>\n",
       "      <td>0</td>\n",
       "    </tr>\n",
       "    <tr>\n",
       "      <th>4</th>\n",
       "      <td>4</td>\n",
       "      <td>3062055</td>\n",
       "      <td>K80.2 Calculus of gallbladder without cholecys...</td>\n",
       "      <td>28.28</td>\n",
       "      <td>45.62</td>\n",
       "      <td>69.3</td>\n",
       "      <td>1.324</td>\n",
       "      <td>1.231</td>\n",
       "      <td>64.9</td>\n",
       "      <td>2.31</td>\n",
       "      <td>...</td>\n",
       "      <td>32.42</td>\n",
       "      <td>107.4</td>\n",
       "      <td>9.275</td>\n",
       "      <td>33.14</td>\n",
       "      <td>69.07</td>\n",
       "      <td>2.656</td>\n",
       "      <td>331.1</td>\n",
       "      <td>9.26</td>\n",
       "      <td>39.6</td>\n",
       "      <td>0</td>\n",
       "    </tr>\n",
       "  </tbody>\n",
       "</table>\n",
       "<p>5 rows × 34 columns</p>\n",
       "</div>"
      ],
      "text/plain": [
       "   Unnamed: 0      eid                                             p41270  \\\n",
       "0           0  5155904  R87.6 Abnormal cytological findings|eczema/der...   \n",
       "1           1  5551888  E11.9 Without complications|E78.0 Pure hyperch...   \n",
       "2           2  4051692  D50.8 Other iron deficiency anaemias|F05.9 Del...   \n",
       "3           3  2293266  J32.8 Other chronic sinusitis|J33.9 Nasal poly...   \n",
       "4           4  3062055  K80.2 Calculus of gallbladder without cholecys...   \n",
       "\n",
       "     ALT  Albumin  Alkaline phosphatase   ApoA   ApoB   AST  \\\n",
       "0  11.61    44.62                  58.3  1.612  0.776  18.0   \n",
       "1  23.24    44.45                  78.5  1.397  1.022  25.1   \n",
       "2  22.18    45.65                 111.4  1.496  1.140  26.7   \n",
       "3  24.61    41.70                 110.3  1.142  0.799  27.8   \n",
       "4  28.28    45.62                  69.3  1.324  1.231  64.9   \n",
       "\n",
       "   C-reactive protein  ...   SHBG  Sodium in urine  Testosterone  \\\n",
       "0                1.81  ...  75.27             32.5         0.877   \n",
       "1                0.59  ...  23.27            123.9        15.640   \n",
       "2                2.12  ...  54.07             31.7         0.687   \n",
       "3                5.15  ...  26.26            179.3         8.990   \n",
       "4                2.31  ...  32.42            107.4         9.275   \n",
       "\n",
       "   Total bilirubin  Total protein  Triglycerides  Urate  Urea     VD  flag  \n",
       "0             7.18          71.28          1.677  281.6  4.84  109.0     0  \n",
       "1             9.15          76.82          0.803  334.1  3.05   39.4     0  \n",
       "2             5.99          72.55          2.006  220.6  4.66   46.8     0  \n",
       "3             8.90          70.65          1.769  376.7  3.89   22.2     0  \n",
       "4            33.14          69.07          2.656  331.1  9.26   39.6     0  \n",
       "\n",
       "[5 rows x 34 columns]"
      ]
     },
     "execution_count": 3,
     "metadata": {},
     "output_type": "execute_result"
    }
   ],
   "source": [
    "leng=len(df[\"eid\"])\n",
    "df.dropna(axis=1,thresh=1*leng/3,inplace=True)\n",
    "df.head()"
   ]
  },
  {
   "cell_type": "code",
   "execution_count": 4,
   "id": "1e978ea1",
   "metadata": {
    "ExecuteTime": {
     "end_time": "2022-11-21T08:17:38.159290Z",
     "start_time": "2022-11-21T08:17:38.060027Z"
    },
    "scrolled": true
   },
   "outputs": [
    {
     "data": {
      "text/plain": [
       "Index(['ALT', 'Albumin', 'Alkaline phosphatase', 'ApoA', 'ApoB', 'AST',\n",
       "       'C-reactive protein', 'Ca', 'Cholestero', 'Creatinine',\n",
       "       'Creatinine in urine', 'Cystatin C', 'Direct bilirubin',\n",
       "       'γ-glutamyltransferase', 'Glucose', 'HbA1c', 'HDL cholesterol', 'IGF-1',\n",
       "       'Lipoprotein A', 'Phosphate', 'Potassium in urine', 'SHBG',\n",
       "       'Sodium in urine', 'Testosterone', 'Total bilirubin', 'Total protein',\n",
       "       'Triglycerides', 'Urate', 'Urea', 'VD'],\n",
       "      dtype='object')"
      ]
     },
     "execution_count": 4,
     "metadata": {},
     "output_type": "execute_result"
    }
   ],
   "source": [
    "data=df.iloc[:,3:33]\n",
    "label=df[\"flag\"]\n",
    "\n",
    "col=data.columns\n",
    "col"
   ]
  },
  {
   "cell_type": "code",
   "execution_count": 5,
   "id": "4f5dec17",
   "metadata": {
    "ExecuteTime": {
     "end_time": "2022-11-21T08:17:39.269701Z",
     "start_time": "2022-11-21T08:17:38.946479Z"
    }
   },
   "outputs": [],
   "source": [
    "for s in col:\n",
    "    data[s].fillna(data[s].mean(),inplace=True)"
   ]
  },
  {
   "cell_type": "code",
   "execution_count": 6,
   "id": "3c68e641",
   "metadata": {
    "ExecuteTime": {
     "end_time": "2022-11-21T08:17:40.042235Z",
     "start_time": "2022-11-21T08:17:39.932675Z"
    }
   },
   "outputs": [
    {
     "data": {
      "text/plain": [
       "ALT                      0\n",
       "Albumin                  0\n",
       "Alkaline phosphatase     0\n",
       "ApoA                     0\n",
       "ApoB                     0\n",
       "AST                      0\n",
       "C-reactive protein       0\n",
       "Ca                       0\n",
       "Cholestero               0\n",
       "Creatinine               0\n",
       "Creatinine in urine      0\n",
       "Cystatin C               0\n",
       "Direct bilirubin         0\n",
       "γ-glutamyltransferase    0\n",
       "Glucose                  0\n",
       "HbA1c                    0\n",
       "HDL cholesterol          0\n",
       "IGF-1                    0\n",
       "Lipoprotein A            0\n",
       "Phosphate                0\n",
       "Potassium in urine       0\n",
       "SHBG                     0\n",
       "Sodium in urine          0\n",
       "Testosterone             0\n",
       "Total bilirubin          0\n",
       "Total protein            0\n",
       "Triglycerides            0\n",
       "Urate                    0\n",
       "Urea                     0\n",
       "VD                       0\n",
       "dtype: int64"
      ]
     },
     "execution_count": 6,
     "metadata": {},
     "output_type": "execute_result"
    }
   ],
   "source": [
    "data.isnull().sum()"
   ]
  },
  {
   "cell_type": "code",
   "execution_count": 7,
   "id": "79a0e657",
   "metadata": {
    "ExecuteTime": {
     "end_time": "2022-11-21T08:17:41.508514Z",
     "start_time": "2022-11-21T08:17:40.854618Z"
    }
   },
   "outputs": [],
   "source": [
    "from sklearn.model_selection import train_test_split\n",
    "train_x, test_x, train_y, test_y = train_test_split(data, label, random_state=0)"
   ]
  },
  {
   "cell_type": "code",
   "execution_count": 8,
   "id": "bdec8747",
   "metadata": {
    "ExecuteTime": {
     "end_time": "2022-11-21T08:18:32.468198Z",
     "start_time": "2022-11-21T08:18:30.235008Z"
    }
   },
   "outputs": [],
   "source": [
    "ros = RandomOverSampler(random_state=0)\n",
    "X_resampled, y_resampled = ros.fit_resample(train_x, train_y)"
   ]
  },
  {
   "cell_type": "code",
   "execution_count": 9,
   "id": "5326ccdd",
   "metadata": {
    "ExecuteTime": {
     "end_time": "2022-11-21T08:18:34.687604Z",
     "start_time": "2022-11-21T08:18:34.681572Z"
    }
   },
   "outputs": [],
   "source": [
    "from xgboost import XGBClassifier\n",
    "from sklearn.model_selection import StratifiedKFold\n",
    "from sklearn.model_selection import cross_val_score\n",
    "from sklearn.metrics import accuracy_score"
   ]
  },
  {
   "cell_type": "code",
   "execution_count": 10,
   "id": "e6054005",
   "metadata": {
    "ExecuteTime": {
     "end_time": "2022-11-21T08:25:38.424906Z",
     "start_time": "2022-11-21T08:19:10.449938Z"
    }
   },
   "outputs": [
    {
     "name": "stdout",
     "output_type": "stream",
     "text": [
      "[0.70058757 0.70116932 0.69850781 0.69965677 0.70204194 0.69917682\n",
      " 0.70679775 0.70173653 0.70205215 0.70072865]\n",
      "CV Accuracy: 70.12% (0.22%)\n"
     ]
    }
   ],
   "source": [
    "num_round = 100\n",
    "model = XGBClassifier(max_depth=2, learning_rate=0.1,n_estimators=num_round, verbosity=0, objective='binary:logistic')\n",
    "model.fit(X_resampled, y_resampled)\n",
    "# feature importance\n",
    "kfold = StratifiedKFold(n_splits=10)\n",
    "results = cross_val_score(model, X_resampled, y_resampled, cv=kfold)\n",
    "print(results)\n",
    "print(\"CV Accuracy: %.2f%% (%.2f%%)\" % (results.mean()*100, results.std()*100))"
   ]
  },
  {
   "cell_type": "code",
   "execution_count": 49,
   "id": "f428b8f0",
   "metadata": {},
   "outputs": [
    {
     "data": {
      "text/plain": [
       "({'n_estimators': 150}, 0.7753734051488592)"
      ]
     },
     "execution_count": 49,
     "metadata": {},
     "output_type": "execute_result"
    }
   ],
   "source": [
    "from sklearn.model_selection import GridSearchCV\n",
    "param_test1 = {\n",
    " 'n_estimators':[i for i in range(100,300,10)]\n",
    "}\n",
    "gsearch1 = GridSearchCV(estimator = XGBClassifier(max_depth=5,min_child_weight=1,subsample=0.85,colsample_bytree=0.55, gamma=0.0,learning_rate=0.1,n_estimators=num_round, verbosity=0, objective='binary:logistic'), \n",
    " param_grid = param_test1, scoring='roc_auc',n_jobs=4,cv=5)\n",
    "gsearch1.fit(train_x,train_y)\n",
    "gsearch1.best_params_, gsearch1.best_score_"
   ]
  },
  {
   "cell_type": "code",
   "execution_count": 50,
   "id": "79a20451",
   "metadata": {},
   "outputs": [
    {
     "data": {
      "text/plain": [
       "({'max_depth': 4, 'min_child_weight': 2}, 0.7751955937858679)"
      ]
     },
     "execution_count": 50,
     "metadata": {},
     "output_type": "execute_result"
    }
   ],
   "source": [
    "\n",
    "param_test2 = {\n",
    " 'max_depth':list(range(3,7,1)),\n",
    " 'min_child_weight':list(range(1,3,1))\n",
    "}\n",
    "gsearch2 = GridSearchCV(estimator = XGBClassifier(max_depth=2, learning_rate=0.1,n_estimators=150, verbosity=0, objective='binary:logistic'), \n",
    " param_grid = param_test2, scoring='roc_auc',n_jobs=4,cv=5)\n",
    "gsearch2.fit(train_x,train_y)\n",
    "gsearch2.best_params_, gsearch2.best_score_"
   ]
  },
  {
   "cell_type": "code",
   "execution_count": 52,
   "id": "6b8e3705",
   "metadata": {},
   "outputs": [
    {
     "data": {
      "text/plain": [
       "({'min_child_weight': 2}, 0.7751955937858679)"
      ]
     },
     "execution_count": 52,
     "metadata": {},
     "output_type": "execute_result"
    }
   ],
   "source": [
    "param_test3 = {\n",
    " 'min_child_weight':list(range(2,5,1))\n",
    "}\n",
    "gsearch3 = GridSearchCV(estimator = XGBClassifier(max_depth=4,min_child_weight=2, learning_rate=0.1,n_estimators=150, verbosity=0, objective='binary:logistic'), \n",
    " param_grid = param_test3, scoring='roc_auc',n_jobs=4,cv=5)\n",
    "gsearch3.fit(train_x,train_y)\n",
    "gsearch3.best_params_, gsearch3.best_score_"
   ]
  },
  {
   "cell_type": "code",
   "execution_count": 53,
   "id": "243fb70d",
   "metadata": {},
   "outputs": [
    {
     "data": {
      "text/plain": [
       "({'gamma': 0.2}, 0.7751987408645071)"
      ]
     },
     "execution_count": 53,
     "metadata": {},
     "output_type": "execute_result"
    }
   ],
   "source": [
    "param_test4 = {\n",
    " 'gamma':[i/10.0 for i in range(0,5)]\n",
    "}\n",
    "gsearch4 = GridSearchCV(estimator = XGBClassifier(max_depth=4,min_child_weight=2, learning_rate=0.1,n_estimators=150, verbosity=0, objective='binary:logistic'), \n",
    " param_grid = param_test4, scoring='roc_auc',n_jobs=4,cv=5)\n",
    "gsearch4.fit(train_x,train_y)\n",
    "gsearch4.best_params_, gsearch4.best_score_"
   ]
  },
  {
   "cell_type": "code",
   "execution_count": 54,
   "id": "2b017808",
   "metadata": {},
   "outputs": [
    {
     "data": {
      "text/plain": [
       "({'colsample_bytree': 0.75, 'subsample': 0.8}, 0.7753734051488592)"
      ]
     },
     "execution_count": 54,
     "metadata": {},
     "output_type": "execute_result"
    }
   ],
   "source": [
    "param_test4 = {\n",
    " 'subsample':[i/100.0 for i in range(75,90,5)],\n",
    " 'colsample_bytree':[i/100.0 for i in range(75,90,5)]\n",
    "}\n",
    "gsearch4 = GridSearchCV(estimator = XGBClassifier(max_depth=4,min_child_weight=2,gamma=0.2,learning_rate=0.1,n_estimators=150, verbosity=0, objective='binary:logistic'), \n",
    " param_grid = param_test4, scoring='roc_auc',n_jobs=4,cv=5)\n",
    "gsearch4.fit(train_x,train_y)\n",
    "gsearch4.best_params_, gsearch1.best_score_"
   ]
  },
  {
   "cell_type": "code",
   "execution_count": 55,
   "id": "ae5e1fed",
   "metadata": {},
   "outputs": [
    {
     "data": {
      "text/html": [
       "<style>#sk-container-id-2 {color: black;background-color: white;}#sk-container-id-2 pre{padding: 0;}#sk-container-id-2 div.sk-toggleable {background-color: white;}#sk-container-id-2 label.sk-toggleable__label {cursor: pointer;display: block;width: 100%;margin-bottom: 0;padding: 0.3em;box-sizing: border-box;text-align: center;}#sk-container-id-2 label.sk-toggleable__label-arrow:before {content: \"▸\";float: left;margin-right: 0.25em;color: #696969;}#sk-container-id-2 label.sk-toggleable__label-arrow:hover:before {color: black;}#sk-container-id-2 div.sk-estimator:hover label.sk-toggleable__label-arrow:before {color: black;}#sk-container-id-2 div.sk-toggleable__content {max-height: 0;max-width: 0;overflow: hidden;text-align: left;background-color: #f0f8ff;}#sk-container-id-2 div.sk-toggleable__content pre {margin: 0.2em;color: black;border-radius: 0.25em;background-color: #f0f8ff;}#sk-container-id-2 input.sk-toggleable__control:checked~div.sk-toggleable__content {max-height: 200px;max-width: 100%;overflow: auto;}#sk-container-id-2 input.sk-toggleable__control:checked~label.sk-toggleable__label-arrow:before {content: \"▾\";}#sk-container-id-2 div.sk-estimator input.sk-toggleable__control:checked~label.sk-toggleable__label {background-color: #d4ebff;}#sk-container-id-2 div.sk-label input.sk-toggleable__control:checked~label.sk-toggleable__label {background-color: #d4ebff;}#sk-container-id-2 input.sk-hidden--visually {border: 0;clip: rect(1px 1px 1px 1px);clip: rect(1px, 1px, 1px, 1px);height: 1px;margin: -1px;overflow: hidden;padding: 0;position: absolute;width: 1px;}#sk-container-id-2 div.sk-estimator {font-family: monospace;background-color: #f0f8ff;border: 1px dotted black;border-radius: 0.25em;box-sizing: border-box;margin-bottom: 0.5em;}#sk-container-id-2 div.sk-estimator:hover {background-color: #d4ebff;}#sk-container-id-2 div.sk-parallel-item::after {content: \"\";width: 100%;border-bottom: 1px solid gray;flex-grow: 1;}#sk-container-id-2 div.sk-label:hover label.sk-toggleable__label {background-color: #d4ebff;}#sk-container-id-2 div.sk-serial::before {content: \"\";position: absolute;border-left: 1px solid gray;box-sizing: border-box;top: 0;bottom: 0;left: 50%;z-index: 0;}#sk-container-id-2 div.sk-serial {display: flex;flex-direction: column;align-items: center;background-color: white;padding-right: 0.2em;padding-left: 0.2em;position: relative;}#sk-container-id-2 div.sk-item {position: relative;z-index: 1;}#sk-container-id-2 div.sk-parallel {display: flex;align-items: stretch;justify-content: center;background-color: white;position: relative;}#sk-container-id-2 div.sk-item::before, #sk-container-id-2 div.sk-parallel-item::before {content: \"\";position: absolute;border-left: 1px solid gray;box-sizing: border-box;top: 0;bottom: 0;left: 50%;z-index: -1;}#sk-container-id-2 div.sk-parallel-item {display: flex;flex-direction: column;z-index: 1;position: relative;background-color: white;}#sk-container-id-2 div.sk-parallel-item:first-child::after {align-self: flex-end;width: 50%;}#sk-container-id-2 div.sk-parallel-item:last-child::after {align-self: flex-start;width: 50%;}#sk-container-id-2 div.sk-parallel-item:only-child::after {width: 0;}#sk-container-id-2 div.sk-dashed-wrapped {border: 1px dashed gray;margin: 0 0.4em 0.5em 0.4em;box-sizing: border-box;padding-bottom: 0.4em;background-color: white;}#sk-container-id-2 div.sk-label label {font-family: monospace;font-weight: bold;display: inline-block;line-height: 1.2em;}#sk-container-id-2 div.sk-label-container {text-align: center;}#sk-container-id-2 div.sk-container {/* jupyter's `normalize.less` sets `[hidden] { display: none; }` but bootstrap.min.css set `[hidden] { display: none !important; }` so we also need the `!important` here to be able to override the default hidden behavior on the sphinx rendered scikit-learn.org. See: https://github.com/scikit-learn/scikit-learn/issues/21755 */display: inline-block !important;position: relative;}#sk-container-id-2 div.sk-text-repr-fallback {display: none;}</style><div id=\"sk-container-id-2\" class=\"sk-top-container\"><div class=\"sk-text-repr-fallback\"><pre>GridSearchCV(cv=5,\n",
       "             estimator=XGBClassifier(base_score=None, booster=None,\n",
       "                                     callbacks=None, colsample_bylevel=None,\n",
       "                                     colsample_bynode=None,\n",
       "                                     colsample_bytree=None,\n",
       "                                     early_stopping_rounds=None,\n",
       "                                     enable_categorical=False, eval_metric=None,\n",
       "                                     feature_types=None, gamma=0.2, gpu_id=None,\n",
       "                                     grow_policy=None, importance_type=None,\n",
       "                                     interaction_constraints=None,\n",
       "                                     learning_rate=0.1, max_bin=None,\n",
       "                                     max_cat_threshold=None,\n",
       "                                     max_cat_to_onehot=None,\n",
       "                                     max_delta_step=None, max_depth=4,\n",
       "                                     max_leaves=None, min_child_weight=2,\n",
       "                                     missing=nan, monotone_constraints=None,\n",
       "                                     n_estimators=150, n_jobs=None,\n",
       "                                     num_parallel_tree=None, predictor=None,\n",
       "                                     random_state=None, ...),\n",
       "             n_jobs=4,\n",
       "             param_grid={&#x27;colsample_bytree&#x27;: [0.5, 0.55, 0.6, 0.65, 0.7]},\n",
       "             scoring=&#x27;roc_auc&#x27;)</pre><b>In a Jupyter environment, please rerun this cell to show the HTML representation or trust the notebook. <br />On GitHub, the HTML representation is unable to render, please try loading this page with nbviewer.org.</b></div><div class=\"sk-container\" hidden><div class=\"sk-item sk-dashed-wrapped\"><div class=\"sk-label-container\"><div class=\"sk-label sk-toggleable\"><input class=\"sk-toggleable__control sk-hidden--visually\" id=\"sk-estimator-id-4\" type=\"checkbox\" ><label for=\"sk-estimator-id-4\" class=\"sk-toggleable__label sk-toggleable__label-arrow\">GridSearchCV</label><div class=\"sk-toggleable__content\"><pre>GridSearchCV(cv=5,\n",
       "             estimator=XGBClassifier(base_score=None, booster=None,\n",
       "                                     callbacks=None, colsample_bylevel=None,\n",
       "                                     colsample_bynode=None,\n",
       "                                     colsample_bytree=None,\n",
       "                                     early_stopping_rounds=None,\n",
       "                                     enable_categorical=False, eval_metric=None,\n",
       "                                     feature_types=None, gamma=0.2, gpu_id=None,\n",
       "                                     grow_policy=None, importance_type=None,\n",
       "                                     interaction_constraints=None,\n",
       "                                     learning_rate=0.1, max_bin=None,\n",
       "                                     max_cat_threshold=None,\n",
       "                                     max_cat_to_onehot=None,\n",
       "                                     max_delta_step=None, max_depth=4,\n",
       "                                     max_leaves=None, min_child_weight=2,\n",
       "                                     missing=nan, monotone_constraints=None,\n",
       "                                     n_estimators=150, n_jobs=None,\n",
       "                                     num_parallel_tree=None, predictor=None,\n",
       "                                     random_state=None, ...),\n",
       "             n_jobs=4,\n",
       "             param_grid={&#x27;colsample_bytree&#x27;: [0.5, 0.55, 0.6, 0.65, 0.7]},\n",
       "             scoring=&#x27;roc_auc&#x27;)</pre></div></div></div><div class=\"sk-parallel\"><div class=\"sk-parallel-item\"><div class=\"sk-item\"><div class=\"sk-label-container\"><div class=\"sk-label sk-toggleable\"><input class=\"sk-toggleable__control sk-hidden--visually\" id=\"sk-estimator-id-5\" type=\"checkbox\" ><label for=\"sk-estimator-id-5\" class=\"sk-toggleable__label sk-toggleable__label-arrow\">estimator: XGBClassifier</label><div class=\"sk-toggleable__content\"><pre>XGBClassifier(base_score=None, booster=None, callbacks=None,\n",
       "              colsample_bylevel=None, colsample_bynode=None,\n",
       "              colsample_bytree=None, early_stopping_rounds=None,\n",
       "              enable_categorical=False, eval_metric=None, feature_types=None,\n",
       "              gamma=0.2, gpu_id=None, grow_policy=None, importance_type=None,\n",
       "              interaction_constraints=None, learning_rate=0.1, max_bin=None,\n",
       "              max_cat_threshold=None, max_cat_to_onehot=None,\n",
       "              max_delta_step=None, max_depth=4, max_leaves=None,\n",
       "              min_child_weight=2, missing=nan, monotone_constraints=None,\n",
       "              n_estimators=150, n_jobs=None, num_parallel_tree=None,\n",
       "              predictor=None, random_state=None, ...)</pre></div></div></div><div class=\"sk-serial\"><div class=\"sk-item\"><div class=\"sk-estimator sk-toggleable\"><input class=\"sk-toggleable__control sk-hidden--visually\" id=\"sk-estimator-id-6\" type=\"checkbox\" ><label for=\"sk-estimator-id-6\" class=\"sk-toggleable__label sk-toggleable__label-arrow\">XGBClassifier</label><div class=\"sk-toggleable__content\"><pre>XGBClassifier(base_score=None, booster=None, callbacks=None,\n",
       "              colsample_bylevel=None, colsample_bynode=None,\n",
       "              colsample_bytree=None, early_stopping_rounds=None,\n",
       "              enable_categorical=False, eval_metric=None, feature_types=None,\n",
       "              gamma=0.2, gpu_id=None, grow_policy=None, importance_type=None,\n",
       "              interaction_constraints=None, learning_rate=0.1, max_bin=None,\n",
       "              max_cat_threshold=None, max_cat_to_onehot=None,\n",
       "              max_delta_step=None, max_depth=4, max_leaves=None,\n",
       "              min_child_weight=2, missing=nan, monotone_constraints=None,\n",
       "              n_estimators=150, n_jobs=None, num_parallel_tree=None,\n",
       "              predictor=None, random_state=None, ...)</pre></div></div></div></div></div></div></div></div></div></div>"
      ],
      "text/plain": [
       "GridSearchCV(cv=5,\n",
       "             estimator=XGBClassifier(base_score=None, booster=None,\n",
       "                                     callbacks=None, colsample_bylevel=None,\n",
       "                                     colsample_bynode=None,\n",
       "                                     colsample_bytree=None,\n",
       "                                     early_stopping_rounds=None,\n",
       "                                     enable_categorical=False, eval_metric=None,\n",
       "                                     feature_types=None, gamma=0.2, gpu_id=None,\n",
       "                                     grow_policy=None, importance_type=None,\n",
       "                                     interaction_constraints=None,\n",
       "                                     learning_rate=0.1, max_bin=None,\n",
       "                                     max_cat_threshold=None,\n",
       "                                     max_cat_to_onehot=None,\n",
       "                                     max_delta_step=None, max_depth=4,\n",
       "                                     max_leaves=None, min_child_weight=2,\n",
       "                                     missing=nan, monotone_constraints=None,\n",
       "                                     n_estimators=150, n_jobs=None,\n",
       "                                     num_parallel_tree=None, predictor=None,\n",
       "                                     random_state=None, ...),\n",
       "             n_jobs=4,\n",
       "             param_grid={'colsample_bytree': [0.5, 0.55, 0.6, 0.65, 0.7]},\n",
       "             scoring='roc_auc')"
      ]
     },
     "execution_count": 55,
     "metadata": {},
     "output_type": "execute_result"
    }
   ],
   "source": [
    "param_test5 = {\n",
    " 'colsample_bytree':[i/100.0 for i in range(50,75,5)]\n",
    "}\n",
    "gsearch5 = GridSearchCV(estimator = XGBClassifier(max_depth=4,min_child_weight=2,subsample=0.8, gamma=0.2,learning_rate=0.1,n_estimators=150, verbosity=0, objective='binary:logistic'), \n",
    " param_grid = param_test5, scoring='roc_auc',n_jobs=4,cv=5)\n",
    "gsearch5.fit(train_x,train_y)"
   ]
  },
  {
   "cell_type": "code",
   "execution_count": 56,
   "id": "b669d14a",
   "metadata": {},
   "outputs": [
    {
     "data": {
      "text/plain": [
       "({'colsample_bytree': 0.65}, 0.7754925416594288)"
      ]
     },
     "execution_count": 56,
     "metadata": {},
     "output_type": "execute_result"
    }
   ],
   "source": [
    "gsearch5.best_params_, gsearch5.best_score_"
   ]
  },
  {
   "cell_type": "code",
   "execution_count": 59,
   "id": "f125022a",
   "metadata": {},
   "outputs": [
    {
     "data": {
      "text/plain": [
       "({'verbosity': 0}, 0.7754925416594288)"
      ]
     },
     "execution_count": 59,
     "metadata": {},
     "output_type": "execute_result"
    }
   ],
   "source": [
    "param_test6 = {\n",
    " 'verbosity':[i for i in [0,1,2,3]]\n",
    "}\n",
    "gsearch6 = GridSearchCV(estimator = XGBClassifier(max_depth=4,min_child_weight=2,subsample=0.8,colsample_bytree=0.65, gamma=0.2,learning_rate=0.1,n_estimators=150, verbosity=0, objective='binary:logistic'), \n",
    " param_grid = param_test6, scoring='roc_auc',n_jobs=4,cv=5)\n",
    "gsearch6.fit(train_x,train_y)\n",
    "gsearch6.best_params_, gsearch6.best_score_"
   ]
  },
  {
   "cell_type": "code",
   "execution_count": 60,
   "id": "57e0152a",
   "metadata": {},
   "outputs": [
    {
     "data": {
      "text/plain": [
       "({'learning_rate': 0.1}, 0.7754925416594288)"
      ]
     },
     "execution_count": 60,
     "metadata": {},
     "output_type": "execute_result"
    }
   ],
   "source": [
    "param_test7 = {\n",
    " 'learning_rate':[i for i in [1e-3,1e-2,1e-1]]\n",
    "}\n",
    "gsearch7 = GridSearchCV(estimator = XGBClassifier(max_depth=4,min_child_weight=2,subsample=0.8,colsample_bytree=0.65, gamma=0.2,learning_rate=0.1,n_estimators=150, verbosity=0, objective='binary:logistic'), \n",
    " param_grid = param_test7, scoring='roc_auc',n_jobs=4,cv=5)\n",
    "gsearch7.fit(train_x,train_y)\n",
    "gsearch7.best_params_, gsearch7.best_score_"
   ]
  },
  {
   "cell_type": "code",
   "execution_count": 61,
   "id": "53580863",
   "metadata": {},
   "outputs": [
    {
     "data": {
      "text/plain": [
       "{'mean_fit_time': array([22.38394027, 22.86231432, 21.45158882]),\n",
       " 'std_fit_time': array([0.08859683, 0.17103815, 1.77320031]),\n",
       " 'mean_score_time': array([0.10292473, 0.10395374, 0.09733968]),\n",
       " 'std_score_time': array([0.00677597, 0.00839504, 0.02141468]),\n",
       " 'param_learning_rate': masked_array(data=[0.001, 0.01, 0.1],\n",
       "              mask=[False, False, False],\n",
       "        fill_value='?',\n",
       "             dtype=object),\n",
       " 'params': [{'learning_rate': 0.001},\n",
       "  {'learning_rate': 0.01},\n",
       "  {'learning_rate': 0.1}],\n",
       " 'split0_test_score': array([0.73563149, 0.7397923 , 0.7656793 ]),\n",
       " 'split1_test_score': array([0.75333912, 0.75840266, 0.78073881]),\n",
       " 'split2_test_score': array([0.73213076, 0.73708934, 0.76873667]),\n",
       " 'split3_test_score': array([0.7549181 , 0.75965283, 0.78444151]),\n",
       " 'split4_test_score': array([0.74461165, 0.74979222, 0.77786642]),\n",
       " 'mean_test_score': array([0.74412623, 0.74894587, 0.77549254]),\n",
       " 'std_test_score': array([0.00913925, 0.00926446, 0.007144  ]),\n",
       " 'rank_test_score': array([3, 2, 1])}"
      ]
     },
     "execution_count": 61,
     "metadata": {},
     "output_type": "execute_result"
    }
   ],
   "source": [
    "gsearch7.cv_results_"
   ]
  },
  {
   "cell_type": "code",
   "execution_count": 11,
   "id": "891e667d",
   "metadata": {
    "ExecuteTime": {
     "end_time": "2022-11-21T09:01:46.637750Z",
     "start_time": "2022-11-21T08:56:49.261258Z"
    }
   },
   "outputs": [],
   "source": [
    "f1=cross_val_score(model, X_resampled, y_resampled, scoring=\"f1\",cv=kfold)"
   ]
  },
  {
   "cell_type": "code",
   "execution_count": 12,
   "id": "6387c59d",
   "metadata": {
    "ExecuteTime": {
     "end_time": "2022-11-21T09:01:46.649388Z",
     "start_time": "2022-11-21T09:01:46.641870Z"
    }
   },
   "outputs": [
    {
     "name": "stdout",
     "output_type": "stream",
     "text": [
      "F1-Score: 69.81% (0.25%)\n"
     ]
    }
   ],
   "source": [
    "print(\"F1-Score: %.2f%% (%.2f%%)\" % (f1.mean()*100, f1.std()*100))"
   ]
  },
  {
   "cell_type": "code",
   "execution_count": 13,
   "id": "4def64c0",
   "metadata": {
    "ExecuteTime": {
     "end_time": "2022-11-21T08:37:55.541466Z",
     "start_time": "2022-11-21T08:37:55.372936Z"
    }
   },
   "outputs": [
    {
     "data": {
      "text/plain": [
       "0.7106300701946114"
      ]
     },
     "execution_count": 13,
     "metadata": {},
     "output_type": "execute_result"
    }
   ],
   "source": [
    "model.score(test_x,test_y)"
   ]
  },
  {
   "cell_type": "code",
   "execution_count": 14,
   "id": "1f777f90",
   "metadata": {
    "ExecuteTime": {
     "end_time": "2022-11-21T08:38:08.133260Z",
     "start_time": "2022-11-21T08:38:07.365834Z"
    },
    "scrolled": true
   },
   "outputs": [
    {
     "data": {
      "image/png": "[encoded data removed]",
      "text/plain": [
       "<Figure size 640x480 with 1 Axes>"
      ]
     },
     "metadata": {},
     "output_type": "display_data"
    }
   ],
   "source": [
    "from matplotlib import pyplot\n",
    "from xgboost import plot_importance\n",
    "# plot\n",
    "plot_importance(model)\n",
    "pyplot.show()"
   ]
  },
  {
   "cell_type": "code",
   "execution_count": 15,
   "id": "57439eb1",
   "metadata": {
    "ExecuteTime": {
     "end_time": "2022-11-21T08:38:29.901443Z",
     "start_time": "2022-11-21T08:38:29.776230Z"
    }
   },
   "outputs": [
    {
     "data": {
      "text/plain": [
       "0.2893699298053886"
      ]
     },
     "execution_count": 15,
     "metadata": {},
     "output_type": "execute_result"
    }
   ],
   "source": [
    "from sklearn.metrics import mean_squared_error as MSE\n",
    "MSE(test_y,model.predict(test_x))"
   ]
  },
  {
   "cell_type": "code",
   "execution_count": 16,
   "id": "580c8cb0",
   "metadata": {
    "ExecuteTime": {
     "end_time": "2022-11-21T08:38:26.018353Z",
     "start_time": "2022-11-21T08:38:25.829153Z"
    }
   },
   "outputs": [
    {
     "data": {
      "text/plain": [
       "0.6637830254851531"
      ]
     },
     "execution_count": 16,
     "metadata": {},
     "output_type": "execute_result"
    }
   ],
   "source": [
    "from sklearn.metrics import classification_report, precision_score, recall_score, f1_score\n",
    "y_pred=model.predict(test_x)\n",
    "recall=recall_score(test_y,y_pred)\n",
    "recall"
   ]
  },
  {
   "cell_type": "code",
   "execution_count": null,
   "id": "b567c8f3",
   "metadata": {},
   "outputs": [],
   "source": []
  }
 ],
 "metadata": {
  "kernelspec": {
   "display_name": "Python 3 (ipykernel)",
   "language": "python",
   "name": "python3"
  },
  "language_info": {
   "codemirror_mode": {
    "name": "ipython",
    "version": 3
   },
   "file_extension": ".py",
   "mimetype": "text/x-python",
   "name": "python",
   "nbconvert_exporter": "python",
   "pygments_lexer": "ipython3",
   "version": "3.9.7"
  }
 },
 "nbformat": 4,
 "nbformat_minor": 5
}
